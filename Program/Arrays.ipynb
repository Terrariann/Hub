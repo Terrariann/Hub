{
 "cells": [
  {
   "cell_type": "code",
   "execution_count": 4,
   "id": "cf0c00de",
   "metadata": {
    "dotnet_interactive": {
     "language": "pwsh"
    },
    "polyglot_notebook": {
     "kernelName": "pwsh"
    }
   },
   "outputs": [
    {
     "name": "stdout",
     "output_type": "stream",
     "text": [
      "- Not using arrays\n",
      "John\n",
      "Jacob\n",
      "Jingle\n",
      "Hymer\n",
      "Schmitt\n",
      "- Done in a loop?\n",
      "John\n",
      "Jacob\n",
      "Jingle\n",
      "Hymer\n",
      "Schmitt\n",
      "- Using arrays\n",
      "John Jacob Jingle Hymer Schmitt\n",
      "John\n",
      "Jacob\n",
      "Jingle\n",
      "Hymer\n",
      "Schmitt\n",
      "- Loop\n",
      "John\n",
      "Jacob\n",
      "Jingle\n",
      "Hymer\n",
      "Schmitt\n",
      "\n",
      "- foreach loop\n",
      "John\n",
      "Jacob\n",
      "Jingle\n",
      "Hymer\n",
      "Schmitt\n",
      "- Imuteable v mutable\n",
      "20473033\n",
      "20473033\n",
      "- Adding to arrays\n",
      "John Jacob Jingle Hymer Schmitt\n",
      "John Jacob Jingle Hymer Schmitt jill\n",
      "- Making arrays\n",
      "1 2 3 4 5\n",
      "\"\"\n",
      "a b c d\n",
      "cat\n",
      "String\n",
      "Object[]\n",
      "1 2 3 4 5 6 7 8 9 10\n",
      "cat dog\n",
      "1 2 3 4 5 10 11 12 13 14 15 20\n",
      "bobble 123 3.1415 head\n",
      "- Change array type\n",
      "Int32[]\n",
      "15\n",
      "- Getting elements in arrays\n",
      "santa\n",
      "True\n",
      "tinkerbell\n",
      "batman robin\n",
      "batman tinkerbell\n",
      "robin santa tinkerbell batman\n",
      "batman robin tinkerbell santa\n",
      "- pipeline \n",
      "Object[]\n",
      "\n",
      "\u001b[32;1m NPM(K)    PM(M)      WS(M)     CPU(s)      Id  SI ProcessName\u001b[0m\n",
      "\u001b[32;1m ------    -----      -----     ------      --  -- -----------\u001b[0m\n",
      "     20    11.37      28.25       0.17   19412   1 ApplicationFrameHost\n",
      "- removing items\n",
      "1 2 3 4 5\n",
      "\n"
     ]
    }
   ],
   "source": [
    "Write-Host \"- Not using arrays\"\n",
    "#Write-Host \"- \"\n",
    "$use1 = \"John\"\n",
    "$use2 = \"Jacob\"\n",
    "$use3 = \"Jingle\"\n",
    "$use4 = \"Hymer\"\n",
    "$use5 = \"Schmitt\"\n",
    "\n",
    "Write-Host $use1\n",
    "Write-Host $use2\n",
    "Write-Host $use3\n",
    "Write-Host $use4\n",
    "Write-Host $use5\n",
    "Write-Host \"- Done in a loop?\"\n",
    "for ($i=1; $i -le 5; $i++) {\n",
    "    Write-Host (IEX \"`$use$i\")\n",
    "}\n",
    "Write-Host \"- Using arrays\"\n",
    "$usernames = \"John\", \"Jacob\", \"Jingle\", \"Hymer\", \"Schmitt\"\n",
    "Write-Host $usernames\n",
    "$usernames\n",
    "Write-Host \"- Loop\"\n",
    "for ($i=0; $i -le 5; $i++) {\n",
    "    Write-Host (IEX \"`$usernames[$i]\")\n",
    "}\n",
    "Write-Host \"- foreach loop\"\n",
    "foreach ($username in $usernames){\n",
    "    Write-Host $username\n",
    "}\n",
    "Write-Host \"- Imuteable v mutable\"\n",
    "$usernames = \"John\", \"Jacob\", \"Jingle\", \"Hymer\", \"Schmitt\"\n",
    "$usernames.GetHashCode()\n",
    "$usernames[0] = \"jake\"\n",
    "$usernames.GetHashCode()\n",
    "Write-Host \"- Adding to arrays\"\n",
    "$usernames = \"John\", \"Jacob\", \"Jingle\", \"Hymer\", \"Schmitt\"\n",
    "Write-Host $usernames\n",
    "$usernames += \"jill\"\n",
    "Write-Host $usernames\n",
    "Write-Host \"- Making arrays\"\n",
    "$numbers = 1, 2, 3, 4, 5\n",
    "Write-Host $numbers\n",
    "$emptyarray = @()\n",
    "Write-Host \"`\"$emptyarray`\"\"\n",
    "$old = @(\"a\",\"b\",\"c\",\"d\")\n",
    "Write-Host $old\n",
    "$one = @(\"cat\")\n",
    "Write-Host $one\n",
    "$notarray = \"cat\"\n",
    "$notarray.gettype().Name\n",
    "$weird = , \"dog\"\n",
    "$weird.gettype().Name\n",
    "$numberarray = 1..10\n",
    "Write-Host $numberarray\n",
    "$new = $one + $weird\n",
    "Write-Host $new\n",
    "$morenumbers = 1..5 + 10..15 + 20\n",
    "Write-Host $morenumbers\n",
    "$things = \"bobble\", 123, 3.1415, \"head\"\n",
    "Write-Host $things\n",
    "Write-Host \"- Change array type\"\n",
    "[int[]]$numbers = 1, 2, 3, 4, 5\n",
    "$numbers.gettype().Name\n",
    "$sum = 0\n",
    "foreach ($num in $numbers){\n",
    "    $sum += $num\n",
    "}\n",
    "$sum\n",
    "Write-Host \"- Getting elements in arrays\"\n",
    "$costume = \"batman\", \"robin\", \"santa\", \"tinkerbell\"\n",
    "$costume[2]\n",
    "$costume[4]\n",
    "$nullv = $costume[4]\n",
    "$nullv -eq $nullv\n",
    "$costume[-1]\n",
    "Write-Host $costume[0..1]\n",
    "Write-Host $costume[0..-1]\n",
    "Write-Host $costume[-3..0]\n",
    "Write-Host $costume[0..1 + 3 + 2]\n",
    "Write-Host \"- pipeline \"\n",
    "$proces = get-process\n",
    "$proces.gettype().name\n",
    "$proces[0]\n",
    "Write-Host \"- removing items\"\n",
    "$numbers = 1, 2, 3, 4, 5\n",
    "Write-Host $numbers\n",
    "$numbers = $numbers[0..($numbers.Length-2)]"
   ]
  },
  {
   "cell_type": "code",
   "execution_count": null,
   "metadata": {
    "dotnet_interactive": {
     "language": "pwsh"
    },
    "polyglot_notebook": {
     "kernelName": "pwsh"
    }
   },
   "outputs": [],
   "source": []
  }
 ],
 "metadata": {
  "kernelspec": {
   "display_name": ".NET (C#)",
   "language": "C#",
   "name": ".net-csharp"
  },
  "language_info": {
   "file_extension": ".ps1",
   "mimetype": "text/x-powershell",
   "name": "polyglot-notebook",
   "pygments_lexer": "powershell",
   "version": "7.0"
  },
  "polyglot_notebook": {
   "kernelInfo": {
    "defaultKernelName": "csharp",
    "items": [
     {
      "aliases": [],
      "name": "csharp"
     },
     {
      "aliases": [],
      "name": "powershell"
     }
    ]
   }
  }
 },
 "nbformat": 4,
 "nbformat_minor": 5
}
