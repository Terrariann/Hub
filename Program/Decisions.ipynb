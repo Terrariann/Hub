{
 "cells": [
  {
   "cell_type": "code",
   "execution_count": 47,
   "metadata": {
    "dotnet_interactive": {
     "language": "pwsh"
    },
    "polyglot_notebook": {
     "kernelName": "pwsh"
    }
   },
   "outputs": [
    {
     "name": "stdout",
     "output_type": "stream",
     "text": [
      "True\n",
      "True\n",
      "False\n",
      "True\n",
      "False\n",
      "True\n",
      "False\n"
     ]
    }
   ],
   "source": [
    "#Variable can hold boolean value\n",
    "$booleanvariable = $true\n",
    "$booleanvariable\n",
    "# convert integer to boolean\n",
    "$intvalue = 123\n",
    "$booleanvariable2 = [bool]$intvalue\n",
    "$booleanvariable2\n",
    "# convert integer to boolean\n",
    "$intvalue = 0\n",
    "$booleanvariable2 = [bool]$intvalue\n",
    "$booleanvariable2\n",
    "# deci to bool\n",
    "$decivalue = 1.23\n",
    "$booleanvariable3 = [bool]$decivalue\n",
    "$booleanvariable3\n",
    "# deci to bool\n",
    "$decivalue = 0\n",
    "$booleanvariable3 = [bool]$decivalue\n",
    "$booleanvariable3\n",
    "#String\n",
    "$stringvar = \"H\"\n",
    "$booleanvariable4 = [bool]$stringvar\n",
    "$booleanvariable4\n",
    "#Words true and false\n",
    "$TruestrVar = \"true\"\n",
    "$FalsestrVar = \"False\"\n",
    "$booleanvariable5 = [bool]::Parse($FalsestrVar)\n",
    "$booleanvariable5"
   ]
  },
  {
   "cell_type": "code",
   "execution_count": 3,
   "metadata": {
    "dotnet_interactive": {
     "language": "pwsh"
    },
    "polyglot_notebook": {
     "kernelName": "pwsh"
    }
   },
   "outputs": [
    {
     "name": "stdout",
     "output_type": "stream",
     "text": [
      "comparing\n",
      "True\n",
      "False\n",
      "False\n",
      "True\n",
      "False\n",
      "Variable compare\n",
      "True\n",
      "True\n",
      "deci\n",
      "True\n",
      "0.3\n",
      "False\n",
      "string\n",
      "True\n",
      "True\n",
      "less\n",
      "False\n",
      "False\n",
      "caps\n",
      "True\n",
      "False\n",
      "True\n",
      "non letter\n",
      "(hello)\n",
      "True\n",
      "True\n",
      "True\n"
     ]
    }
   ],
   "source": [
    "Write-Host \"comparing\"\n",
    "1 -lt 5\n",
    "1 -gt 5\n",
    "1 -eq 5\n",
    "1 -le 5\n",
    "1 -ge 5\n",
    "Write-Host \"Variable compare\"\n",
    "$numusers = 5\n",
    "$numusers -lt 10\n",
    "$numusers -gt 0\n",
    "Write-Host \"deci\"\n",
    "1.2 -lt 10.3\n",
    "#?\n",
    "$a = 0.1\n",
    "$b = 0.2\n",
    "$a + $b \n",
    "($a + $b) -eq 0.3\n",
    "Write-Host \"string\"\n",
    "\"hello\" -eq \"hello\" \n",
    "$userin = \"password\"\n",
    "$userin -eq \"password\"\n",
    "Write-Host \"less\"\n",
    "\"hello\" -lt \"goodbye\"\n",
    "\"hello\" -lt \"hell\"\n",
    "Write-Host \"caps\"\n",
    "\"Hello\" -eq \"hello\"\n",
    "\"Hello\" -ceq \"hello\"\n",
    "\"Hello\" -ieq \"hello\"\n",
    "Write-Host \"non letter\"\n",
    "\"(hello)\"\n",
    "\"(hello)\" -lt \"hello\"\n",
    "\"(\" -lt \"a\"\n",
    "\"a\" -lt \"z\"\n"
   ]
  },
  {
   "cell_type": "code",
   "execution_count": 71,
   "metadata": {
    "dotnet_interactive": {
     "language": "pwsh"
    },
    "polyglot_notebook": {
     "kernelName": "pwsh"
    }
   },
   "outputs": [
    {
     "name": "stdout",
     "output_type": "stream",
     "text": [
      "False\n",
      "97\n"
     ]
    }
   ],
   "source": [
    "#ASCII American Standard Code info Interchange\n",
    "[char]\"a\" -lt [char]\"A\" \n",
    "[byte][char]\"a\""
   ]
  },
  {
   "cell_type": "code",
   "execution_count": 77,
   "metadata": {
    "dotnet_interactive": {
     "language": "pwsh"
    },
    "polyglot_notebook": {
     "kernelName": "pwsh"
    }
   },
   "outputs": [
    {
     "name": "stdout",
     "output_type": "stream",
     "text": [
      "\n",
      "    Directory: E:\\Program\\Assign 2\n",
      "\n",
      "\u001b[32;1mMode                 LastWriteTime         Length Name\u001b[0m\n",
      "\u001b[32;1m----                 -------------         ------ ----\u001b[0m\n",
      "-a---           10/4/2023  8:40 AM           1013 Decisions.ipynb\n",
      "-a---           10/4/2023  8:40 AM           1013 Decisions.ipynb\n",
      "-a---           10/4/2023  8:40 AM           1013 Decisions.ipynb\n",
      "True\n",
      "False\n",
      "True\n",
      "\n"
     ]
    }
   ],
   "source": [
    "#Wild card\n",
    "Get-ChildItem \"d*\"\n",
    "Get-ChildItem \"*.?pynb\"\n",
    "Get-ChildItem \"dec[io]sions.*\"\n",
    "\"this\" -like \"*hi*\"\n",
    "\"this\" -like \"th?t\"\n",
    "\"this\" -like \"th[ai][a-z]\""
   ]
  },
  {
   "cell_type": "code",
   "execution_count": 82,
   "metadata": {
    "dotnet_interactive": {
     "language": "pwsh"
    },
    "polyglot_notebook": {
     "kernelName": "pwsh"
    }
   },
   "outputs": [
    {
     "name": "stdout",
     "output_type": "stream",
     "text": [
      "cats are less then dogs\n",
      "licenses are still valid\n",
      "outputs when true\n",
      "syill works\n"
     ]
    }
   ],
   "source": [
    "# if\n",
    "if (\"cat\" -lt \"dog\") {\n",
    "    Write-Host \"cats are less then dogs\"\n",
    "}\n",
    "$numuse = 10\n",
    "if ($numuse -lt 100) {\n",
    "    Write-Host \"licenses are still valid\"\n",
    "}\n",
    "#boo\n",
    "if ($true){\n",
    "Write-Host \"outputs when true\"\n",
    "}\n",
    "if ([bool]12311343) {\n",
    "    Write-Host \"still works\"\n",
    "}"
   ]
  },
  {
   "cell_type": "code",
   "execution_count": null,
   "id": "cd154e92",
   "metadata": {
    "dotnet_interactive": {
     "language": "pwsh"
    },
    "polyglot_notebook": {
     "kernelName": "pwsh"
    }
   },
   "outputs": [],
   "source": [
    "#false compare\n",
    "$today = \"Thursday\"\n",
    "if ($today -ne \"friday\") {\n",
    "    Write-Host \"Happy long weekend\"\n",
    "}\n",
    "if (-not($today -eq \"friday\")) {\n",
    "    Write-Host \"Happy long weekend\"\n",
    "}\n",
    "#using -not correct\n",
    "$vaild = $false\n",
    "if(-not $valid){\n",
    "    Write-Host \"wrong\"\n",
    "}\n",
    "#else\n",
    "$Turkey = $true\n",
    "if ($turkey) {\n",
    "    Write-Host \"yes\"\n",
    "} else {\n",
    "    Write-Host \"no\"\n",
    "}\n",
    "$Turkey = $false\n",
    "if ($turkey) {\n",
    "    Write-Host \"yes\"\n",
    "} else {\n",
    "    Write-Host \"no\"\n",
    "}\n",
    "#elseif\n",
    "$favpie = \"meat\"\n",
    "\n",
    "#nest if\n",
    "$Condiment = \"cranbarry\"\n",
    "$Meal = \"turkey\"\n",
    "if ($condiment -eq \"cranbarry\"){\n",
    "    if ($meal -eq \"turkey\") {\n",
    "        Write-Host \"need some cranbarry?\"\n",
    "    }\n",
    "\n",
    "}\n",
    "#compund\n",
    "$Condiment = \"cranbarry\"\n",
    "$Meal = \"turkey\"\n",
    "if ($condiment -eq \"cranbarry\"){\n",
    "    if ($meal -eq \"turkey\") {\n",
    "        Write-Host \"need some cranbarry?\"\n",
    "    }\n",
    "\n",
    "}\n",
    "#bigger nested\n",
    "$Inlaws = $true\n",
    "if ($inlaws -eq $true) {\n",
    "    Write-Host \"big thanksgiving meal\"\n",
    "    $InMeal = \"turkey\"}\n",
    "    if ($inmeal -eq \"turkey\") {\n",
    "        Write-Host \"buy Ham\"\n",
    "    } Else {\n",
    "        Write-Host \"Buy Turkey\"\n",
    "\n",
    "}\n",
    "#false\n",
    "$inlaws = $false\n",
    "$inmeal = \"turkey\"\n",
    "$favmeal = \"turkey\"\n",
    "if ($inlaws -and $inmeal -eq \"turkey\") {\n",
    "    Write-Host \"Ham\"\n",
    "} elseif ($inlaws -or $favmeal -eq \"turkey\") {\n",
    "    Write-Host \"Turkey\"\n",
    "}else {\n",
    "    Write-Host \"pizza\"\n",
    "}\n"
   ]
  },
  {
   "cell_type": "code",
   "execution_count": 4,
   "metadata": {
    "dotnet_interactive": {
     "language": "pwsh"
    },
    "polyglot_notebook": {
     "kernelName": "pwsh"
    }
   },
   "outputs": [
    {
     "name": "stdout",
     "output_type": "stream",
     "text": [
      "Red and Blue Make Purple\n",
      "Red and Yellow make Orange\n",
      "Blue and Yellow make Green\n"
     ]
    }
   ],
   "source": [
    "#bigger compound example\n",
    "$color1 = \"red\"\n",
    "$color2 = \"blue\"\n",
    "$color3 = \"yellow\"\n",
    "\n",
    "if ($color1 -eq \"red\" -and $color2 -eq \"blue\") {\n",
    "    \"Red and Blue Make Purple\"\n",
    "}\n",
    "if ($color1 -eq \"red\" -and $color3 -eq \"Yellow\") {\n",
    "    \"Red and Yellow make Orange\"\n",
    "}\n",
    "if ($color2 -eq \"Blue\" -and $color3 -eq \"Yellow\") {\n",
    "    \"Blue and Yellow make Green\"\n",
    "}\n",
    "\n",
    "\n"
   ]
  },
  {
   "cell_type": "code",
   "execution_count": 3,
   "metadata": {
    "dotnet_interactive": {
     "language": "pwsh"
    },
    "polyglot_notebook": {
     "kernelName": "pwsh"
    }
   },
   "outputs": [
    {
     "name": "stdout",
     "output_type": "stream",
     "text": [
      "0\n",
      "1\n",
      "2\n",
      "3\n",
      "4\n",
      "5\n"
     ]
    }
   ],
   "source": [
    "#while\n",
    "$counter = 0\n",
    "while ($counter -le 5 ) {\n",
    "    Write-Host $counter\n",
    "    $counter = $counter + 1\n",
    "}"
   ]
  },
  {
   "cell_type": "code",
   "execution_count": 4,
   "metadata": {
    "dotnet_interactive": {
     "language": "pwsh"
    },
    "polyglot_notebook": {
     "kernelName": "pwsh"
    }
   },
   "outputs": [
    {
     "name": "stdout",
     "output_type": "stream",
     "text": [
      "H\n",
      "H\n",
      "H\n",
      "H\n",
      "H\n",
      "H\n",
      "H\n",
      "H\n",
      "H\n"
     ]
    }
   ],
   "source": [
    "#while string\n",
    "$userinput\n",
    "while ($userinput -ne \"exit\") {\n",
    "    $userinput = read-Host \"Enter\"\n",
    "    Write-Host \"H\"\n",
    "}"
   ]
  },
  {
   "cell_type": "code",
   "execution_count": 1,
   "metadata": {
    "dotnet_interactive": {
     "language": "pwsh"
    },
    "polyglot_notebook": {
     "kernelName": "pwsh"
    }
   },
   "outputs": [
    {
     "name": "stdout",
     "output_type": "stream",
     "text": [
      "counter 1 1, Counter 2 10\n",
      "counter 1 2, Counter 2 9\n",
      "counter 1 3, Counter 2 8\n",
      "counter 1 4, Counter 2 7\n"
     ]
    }
   ],
   "source": [
    "#compound Decision in loop\n",
    "$counter = 1\n",
    "$counter1 = 10\n",
    "while ($counter -lt 5 -and $counter1 -gt 5) {\n",
    "    Write-Host \"counter 1 $counter, Counter 2 $counter1\"\n",
    "    $counter++\n",
    "    $counter1--\n",
    "}"
   ]
  },
  {
   "cell_type": "code",
   "execution_count": 2,
   "metadata": {
    "dotnet_interactive": {
     "language": "pwsh"
    },
    "polyglot_notebook": {
     "kernelName": "pwsh"
    }
   },
   "outputs": [
    {
     "name": "stdout",
     "output_type": "stream",
     "text": [
      "LOGGED IN\r\n"
     ]
    }
   ],
   "source": [
    "#ex\n",
    "$userinput = \"\"\n",
    "$count = 0\n",
    "while ($userinput -ne \"password\" -and $count -lt 3) {\n",
    "    $userinput = read-host \"Enter password\"\n",
    "    $count++\n",
    "}\n",
    "if ($userinput -eq \"password\"){\n",
    "Write-Host \"LOGGED IN\"\n",
    "}\n",
    "else {\n",
    "    Write-Host \"NOT LOGGED IN\"\n",
    "}"
   ]
  },
  {
   "cell_type": "code",
   "execution_count": null,
   "metadata": {
    "dotnet_interactive": {
     "language": "pwsh"
    },
    "polyglot_notebook": {
     "kernelName": "pwsh"
    }
   },
   "outputs": [],
   "source": [
    "#for loop\n",
    "for ($i = 0; $i -le 5; $i++) {\n",
    "    $i\n",
    "}\n"
   ]
  },
  {
   "cell_type": "code",
   "execution_count": null,
   "metadata": {
    "dotnet_interactive": {
     "language": "pwsh"
    },
    "polyglot_notebook": {
     "kernelName": "pwsh"
    }
   },
   "outputs": [],
   "source": [
    "#nest loop\n",
    "for ($i = 0; $i -le 5; $i++) { \n",
    "\n",
    "     for ($j = 0; $j -le 5; $j++) { \n",
    "\n",
    "         for ($k = 0; $k -le 5; $k++) { \n",
    "         $i \n",
    "\n",
    "        } \n",
    "\n",
    "    } \n",
    "\n",
    "} "
   ]
  },
  {
   "cell_type": "code",
   "execution_count": 7,
   "metadata": {
    "dotnet_interactive": {
     "language": "pwsh"
    },
    "polyglot_notebook": {
     "kernelName": "pwsh"
    }
   },
   "outputs": [
    {
     "name": "stdout",
     "output_type": "stream",
     "text": [
      "o\n",
      "oo\n",
      "ooo\n",
      "oooo\n",
      "ooooo\n",
      "oooooo\n",
      "ooooooo\n",
      "oooooooo\n",
      "ooooooooo\n",
      "oooooooooo\n",
      "ooooooooooo\n",
      "oooooooooooo\n",
      "ooooooooooooo\n",
      "oooooooooooooo\n",
      "ooooooooooooooo\n"
     ]
    }
   ],
   "source": [
    "#lines\n",
    "#\n",
    "#         o\n",
    "#        oo\n",
    "#       ooo\n",
    "#      oooo\n",
    "#     ooooo\n",
    "#    oooooo\n",
    "#   ooooooo\n",
    "#  oooooooo\n",
    "# ooooooooo\n",
    "\n",
    "for ($line = 1; $line -le 15; $line++) {\n",
    "    \"o\" * $line\n",
    "    }"
   ]
  }
 ],
 "metadata": {
  "kernelspec": {
   "display_name": ".NET (C#)",
   "language": "C#",
   "name": ".net-csharp"
  },
  "language_info": {
   "file_extension": ".ps1",
   "mimetype": "text/x-powershell",
   "name": "polyglot-notebook",
   "pygments_lexer": "powershell",
   "version": "7.0"
  },
  "polyglot_notebook": {
   "kernelInfo": {
    "defaultKernelName": "csharp",
    "items": [
     {
      "aliases": [],
      "name": "csharp"
     },
     {
      "aliases": [],
      "name": "powershell"
     }
    ]
   }
  }
 },
 "nbformat": 4,
 "nbformat_minor": 5
}
