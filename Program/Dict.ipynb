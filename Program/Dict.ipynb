{
 "cells": [
  {
   "cell_type": "code",
   "execution_count": 23,
   "metadata": {
    "dotnet_interactive": {
     "language": "pwsh"
    },
    "polyglot_notebook": {
     "kernelName": "pwsh"
    },
    "vscode": {
     "languageId": "polyglot-notebook"
    }
   },
   "outputs": [
    {
     "name": "stdout",
     "output_type": "stream",
     "text": [
      "- Hash table\n",
      "Red\n",
      "- Password List\n",
      "correct\n",
      "- adding to hash\n",
      "\n",
      "\u001b[32;1mName                           Value\u001b[0m\n",
      "\u001b[32;1m----                           -----\u001b[0m\n",
      "worst                          candy corn\n",
      "ok                             chips\n",
      "best                           chocolate\n",
      "excellent                      candy apple\n",
      "- Removing form hash\n",
      "ok                             chips\n",
      "best                           chocolate\n",
      "- What can be in hash\n",
      "123\n",
      "1\n",
      "Red\n",
      "Yellow\n",
      "- keys\n",
      "Red\n",
      "Orange\n",
      "Yellow\n",
      "apples, orange, tangerine, cherry\n",
      "Apple Banana cocktail Orange\n",
      "- Keys and value pairs in loop\n",
      "key = Apple, Value = Red\n",
      "key = Orange, Value = Orange\n",
      "key = Banana, Value = Yellow\n",
      "key = cocktail, Value = apples, orange, tangerine, cherry\n",
      "cocktail                       apples, orange, tangerine, cherry\n",
      "Orange                         Orange\n",
      "Apple                          Red\n",
      "Banana                         Yellow\n",
      "\n"
     ]
    }
   ],
   "source": [
    "#Write-Host \"- \"\n",
    "Write-Host \"- Hash table\"\n",
    "$fruit = @{\n",
    "    'Apple' ='Red';\n",
    "    'Banana' = 'Yellow';\n",
    "    'Orange' = 'Orange';\n",
    "    'cocktail' = 'apples, orange, tangerine, cherry'\n",
    "}\n",
    "$fruit['apple']\n",
    "Write-Host \"- Password List\"\n",
    "$password = @{\n",
    "    '123456' = 'password'\n",
    "    '111111' = 'easy'\n",
    "    '222222' = 'veryhard'\n",
    "}\n",
    "if ($password['111111']-eq 'easy'){\n",
    "    'correct'\n",
    "}\n",
    "Write-Host \"- adding to hash\"\n",
    "$candy = @{'best'='chocolate'; 'ok'='chips'; 'worst'='candy corn';}\n",
    "$candy['excellent']= 'candy apple'\n",
    "$candy\n",
    "#Write-Host \"- looping\"\n",
    "#$items = Get-ChildItem $HOME\n",
    "#$largesizefiles = \n",
    "#foreach ($item in $items){\n",
    "#if ($item.Length -gt 1) {\n",
    "#    $largesizefiles[$item.name] = $item.Length\n",
    "#    }\n",
    "#}\n",
    "Write-Host \"- Removing from hash\"\n",
    "$candy = @{'best'='chocolate'; 'ok'='chips'; 'worst'='candy corn';}\n",
    "$candy.Remove('worst')\n",
    "$candy\n",
    "Write-Host \"- What can be in hash\"\n",
    "$things = @{\n",
    "    number = 123;\n",
    "    string = 'hello';\n",
    "    deci = 3.14159;\n",
    "    Boo = $true;\n",
    "    Arrey = @(1, 2, 3, 4, 5);\n",
    "    Hash = @{'Apple' ='Red'; 'Banana' = 'Yellow'; 'Orange' = 'Orange';}\n",
    "}\n",
    "$things.number\n",
    "$things.arrey[0]\n",
    "$things.hash['apple']\n",
    "$things.hash.Banana\n",
    "Write-Host \"- keys\"\n",
    "$fruit = @{\n",
    "    'Apple' ='Red';\n",
    "    'Banana' = 'Yellow';\n",
    "    'Orange' = 'Orange';\n",
    "    'cocktail' = 'apples, orange, tangerine, cherry'\n",
    "}\n",
    "foreach ($k in $fruit.Keys) {\n",
    "    $fruit[$k]\n",
    "}\n",
    "Write-Host ($fruit.Keys | sort)\n",
    "Write-Host \"- Keys and value pairs in loop\"\n",
    "$fruit = @{\n",
    "    'Apple' ='Red';\n",
    "    'Banana' = 'Yellow';\n",
    "    'Orange' = 'Orange';\n",
    "    'cocktail' = 'apples, orange, tangerine, cherry'\n",
    "}\n",
    "foreach ($f in $fruit.GetEnumerator()) {\n",
    "    \"key = $($f.key), Value = $($f.Value)\"\n",
    "}\n",
    "$fruit.GetEnumerator() | Sort-Object -Property Value\n"
   ]
  },
  {
   "cell_type": "code",
   "execution_count": 3,
   "metadata": {
    "dotnet_interactive": {
     "language": "pwsh"
    },
    "polyglot_notebook": {
     "kernelName": "pwsh"
    },
    "vscode": {
     "languageId": "polyglot-notebook"
    }
   },
   "outputs": [
    {
     "name": "stdout",
     "output_type": "stream",
     "text": [
      "key = Apple, Value = Red\n",
      "key = cocktail, Value = apples, orange, tangerine, cherry\n",
      "key = Orange, Value = Orange\n",
      "key = Banana, Value = Yellow\n",
      "\n",
      "\u001b[32;1mName                           Value\u001b[0m\n",
      "\u001b[32;1m----                           -----\u001b[0m\n",
      "cocktail                       apples, orange, tangerine, cherry\n",
      "Orange                         Orange\n",
      "Apple                          Red\n",
      "Banana                         Yellow\n",
      "\n"
     ]
    }
   ],
   "source": [
    "    $fruit = @{\n",
    "    'Apple' ='Red';\n",
    "    'Banana' = 'Yellow';\n",
    "    'Orange' = 'Orange';\n",
    "    'cocktail' = 'apples, orange, tangerine, cherry'\n",
    "}\n",
    "foreach ($f in $fruit.GetEnumerator()) {\n",
    "    \"key = $($f.key), Value = $($f.Value)\"\n",
    "}\n",
    "$fruit.GetEnumerator() | Sort-Object -Property Value"
   ]
  },
  {
   "cell_type": "code",
   "execution_count": null,
   "metadata": {
    "dotnet_interactive": {
     "language": "csharp"
    },
    "polyglot_notebook": {
     "kernelName": "csharp"
    },
    "vscode": {
     "languageId": "polyglot-notebook"
    }
   },
   "outputs": [],
   "source": []
  }
 ],
 "metadata": {
  "language_info": {
   "name": "python"
  }
 },
 "nbformat": 4,
 "nbformat_minor": 2
}
