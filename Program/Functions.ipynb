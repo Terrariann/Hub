{
 "cells": [
  {
   "cell_type": "code",
   "execution_count": 9,
   "metadata": {
    "dotnet_interactive": {
     "language": "pwsh"
    },
    "polyglot_notebook": {
     "kernelName": "pwsh"
    },
    "vscode": {
     "languageId": "polyglot-notebook"
    }
   },
   "outputs": [
    {
     "name": "stdout",
     "output_type": "stream",
     "text": [
      "- gives random number\n",
      "1906328790\n",
      "- Number between 1-10\n",
      "1\n",
      "9\n",
      "- pick random item\n",
      "paper\n"
     ]
    }
   ],
   "source": [
    "#Write-Host \"- \"\n",
    "Write-Host \"- gives random number\"\n",
    "Get-Random\n",
    "Write-Host \"- Number between 1-10\"\n",
    "(Get-Random) % 10 + 1\n",
    "Get-Random -Minimum 1 -Maximum 10\n",
    "Write-Host \"- pick random item\"\n",
    "\"rock\", \"paper\", \"scissors\" | Get-Random\n",
    "Write-Host \"- Basic function\"\n",
    "function Write-helloworld"
   ]
  },
  {
   "cell_type": "code",
   "execution_count": 3,
   "metadata": {
    "dotnet_interactive": {
     "language": "pwsh"
    },
    "polyglot_notebook": {
     "kernelName": "pwsh"
    },
    "vscode": {
     "languageId": "polyglot-notebook"
    }
   },
   "outputs": [],
   "source": []
  },
  {
   "cell_type": "code",
   "execution_count": null,
   "metadata": {
    "dotnet_interactive": {
     "language": "pwsh"
    },
    "polyglot_notebook": {
     "kernelName": "pwsh"
    },
    "vscode": {
     "languageId": "polyglot-notebook"
    }
   },
   "outputs": [],
   "source": []
  }
 ],
 "metadata": {
  "language_info": {
   "name": "python"
  }
 },
 "nbformat": 4,
 "nbformat_minor": 2
}
