{
 "cells": [
  {
   "cell_type": "code",
   "execution_count": 11,
   "metadata": {
    "dotnet_interactive": {
     "language": "pwsh"
    },
    "polyglot_notebook": {
     "kernelName": "pwsh"
    },
    "vscode": {
     "languageId": "polyglot-notebook"
    }
   },
   "outputs": [
    {
     "name": "stdout",
     "output_type": "stream",
     "text": [
      "Hello World\r\n"
     ]
    }
   ],
   "source": [
    "#First Powershell commend\n",
    "Write-Host \"Hello World\""
   ]
  },
  {
   "cell_type": "code",
   "execution_count": 4,
   "metadata": {
    "dotnet_interactive": {
     "language": "pwsh"
    },
    "polyglot_notebook": {
     "kernelName": "pwsh"
    },
    "vscode": {
     "languageId": "polyglot-notebook"
    }
   },
   "outputs": [
    {
     "name": "stdout",
     "output_type": "stream",
     "text": [
      "Third Powershell Statement\r\n"
     ]
    }
   ],
   "source": [
    "Write-Host \"Third Powershell Statement\""
   ]
  },
  {
   "cell_type": "code",
   "execution_count": 9,
   "metadata": {
    "dotnet_interactive": {
     "language": "pwsh"
    },
    "polyglot_notebook": {
     "kernelName": "pwsh"
    },
    "vscode": {
     "languageId": "polyglot-notebook"
    }
   },
   "outputs": [
    {
     "name": "stdout",
     "output_type": "stream",
     "text": [
      "this is text\r\n"
     ]
    }
   ],
   "source": [
    "# any text should be in quotes\n",
    "Write-Host \"this is text\""
   ]
  },
  {
   "cell_type": "code",
   "execution_count": 10,
   "metadata": {
    "dotnet_interactive": {
     "language": "pwsh"
    },
    "polyglot_notebook": {
     "kernelName": "pwsh"
    },
    "vscode": {
     "languageId": "polyglot-notebook"
    }
   },
   "outputs": [
    {
     "name": "stdout",
     "output_type": "stream",
     "text": [
      "12345\n",
      "12345\n"
     ]
    }
   ],
   "source": [
    "# numbers don't have to be in quotes\n",
    "Write-Host 12345\n",
    "Write-Host \"12345\""
   ]
  },
  {
   "cell_type": "code",
   "execution_count": 11,
   "metadata": {
    "dotnet_interactive": {
     "language": "pwsh"
    },
    "polyglot_notebook": {
     "kernelName": "pwsh"
    },
    "vscode": {
     "languageId": "polyglot-notebook"
    }
   },
   "outputs": [
    {
     "name": "stdout",
     "output_type": "stream",
     "text": [
      "3\r\n"
     ]
    }
   ],
   "source": [
    "# add 2 numbers to togther \n",
    "Write-Host (1 + 2)"
   ]
  },
  {
   "cell_type": "code",
   "execution_count": 12,
   "metadata": {
    "dotnet_interactive": {
     "language": "pwsh"
    },
    "polyglot_notebook": {
     "kernelName": "pwsh"
    },
    "vscode": {
     "languageId": "polyglot-notebook"
    }
   },
   "outputs": [
    {
     "name": "stdout",
     "output_type": "stream",
     "text": [
      "1 + 2\n",
      "12\n"
     ]
    }
   ],
   "source": [
    "# concatenate 2 numbers together\n",
    "Write-Host \"1\" + \"2\"\n",
    "Write-Host (\"1\" + \"2\")"
   ]
  },
  {
   "cell_type": "code",
   "execution_count": 1,
   "metadata": {
    "dotnet_interactive": {
     "language": "pwsh"
    },
    "polyglot_notebook": {
     "kernelName": "pwsh"
    },
    "vscode": {
     "languageId": "polyglot-notebook"
    }
   },
   "outputs": [
    {
     "name": "stdout",
     "output_type": "stream",
     "text": [
      "Street Number:  123\n",
      "Street Number:  123 Someplace Ave\n",
      "Street Number:  123 Someplace Ave\n"
     ]
    }
   ],
   "source": [
    "# combine numbers and text\n",
    "Write-Host \"Street Number: \" 123\n",
    "Write-Host \"Street Number: \" 123 \"Someplace Ave\"\n",
    "Write-Host \"Street Number:  123 Someplace Ave\""
   ]
  },
  {
   "cell_type": "code",
   "execution_count": 13,
   "metadata": {
    "dotnet_interactive": {
     "language": "pwsh"
    },
    "polyglot_notebook": {
     "kernelName": "pwsh"
    },
    "vscode": {
     "languageId": "polyglot-notebook"
    }
   },
   "outputs": [],
   "source": [
    "# get input from user \n",
    "Read-Host \"Enter Name\""
   ]
  },
  {
   "cell_type": "code",
   "execution_count": 5,
   "metadata": {
    "dotnet_interactive": {
     "language": "pwsh"
    },
    "polyglot_notebook": {
     "kernelName": "pwsh"
    },
    "vscode": {
     "languageId": "polyglot-notebook"
    }
   },
   "outputs": [
    {
     "name": "stdout",
     "output_type": "stream",
     "text": [
      "5\n",
      "Sam\n"
     ]
    }
   ],
   "source": [
    "# a simle variable\n",
    "$x = 5 \n",
    "$name = \"Sam\"\n",
    "$x\n",
    "$name"
   ]
  },
  {
   "cell_type": "code",
   "execution_count": 10,
   "metadata": {
    "dotnet_interactive": {
     "language": "pwsh"
    },
    "polyglot_notebook": {
     "kernelName": "pwsh"
    },
    "vscode": {
     "languageId": "polyglot-notebook"
    }
   },
   "outputs": [],
   "source": [
    "# list all variables\n",
    "Get-Variable"
   ]
  },
  {
   "cell_type": "code",
   "execution_count": 5,
   "metadata": {
    "dotnet_interactive": {
     "language": "pwsh"
    },
    "polyglot_notebook": {
     "kernelName": "pwsh"
    },
    "vscode": {
     "languageId": "polyglot-notebook"
    }
   },
   "outputs": [],
   "source": [
    "# bad varible names, Just a number, having spaces, Special Characters Expect Underscore (_), \n",
    "\n",
    "#$5 - 123\n",
    "#$street Address - \"5685 Leeds St\"\n",
    "#$money$ = 123.45\n",
    "#$i_like_pie = \"blueberry\""
   ]
  },
  {
   "cell_type": "code",
   "execution_count": 7,
   "metadata": {
    "dotnet_interactive": {
     "language": "pwsh"
    },
    "polyglot_notebook": {
     "kernelName": "pwsh"
    },
    "vscode": {
     "languageId": "polyglot-notebook"
    }
   },
   "outputs": [],
   "source": [
    "# Good variable names, one or more words with no spaces\n",
    "\n",
    "#$StreetAddress - \"5685 Leeds St\""
   ]
  },
  {
   "cell_type": "code",
   "execution_count": 14,
   "metadata": {
    "dotnet_interactive": {
     "language": "pwsh"
    },
    "polyglot_notebook": {
     "kernelName": "pwsh"
    },
    "vscode": {
     "languageId": "polyglot-notebook"
    }
   },
   "outputs": [
    {
     "name": "stdout",
     "output_type": "stream",
     "text": [
      "True\n",
      "\n",
      "\u001b[32;1mIsPublic IsSerial Name                                     BaseType\u001b[0m\n",
      "\u001b[32;1m-------- -------- ----                                     --------\u001b[0m\n",
      "True     True     Boolean                                  System.ValueType\n",
      "\n"
     ]
    }
   ],
   "source": [
    "# boolean values\n",
    "\n",
    "$true\n",
    "$False.GetType()"
   ]
  },
  {
   "cell_type": "code",
   "execution_count": 22,
   "metadata": {
    "dotnet_interactive": {
     "language": "pwsh"
    },
    "polyglot_notebook": {
     "kernelName": "pwsh"
    },
    "vscode": {
     "languageId": "polyglot-notebook"
    }
   },
   "outputs": [
    {
     "name": "stdout",
     "output_type": "stream",
     "text": [
      "True System.Boolean\n",
      "5551212 - System.Double\n",
      "5551212 - System.String\n",
      "5551212 - System.String\n",
      "5551212 - System.Int32\n",
      "True - System.Boolean\n"
     ]
    }
   ],
   "source": [
    "$phonenumber = 5551212\n",
    "Write-Host $phonenumber $phonenumber.GetType()\n",
    "[double]$phonenumber = 5551212\n",
    "Write-Host $phonenumber - $phonenumber.GetType()\n",
    "[string]$phonenumber = 5551212\n",
    "Write-Host $phonenumber - $phonenumber.GetType()\n",
    "[string]$phonenumber = \"5551212\"\n",
    "Write-Host $phonenumber - $phonenumber.GetType()\n",
    "[int]$phonenumber = 5551212\n",
    "Write-Host $phonenumber - $phonenumber.GetType()\n",
    "[boolean]$phonenumber = 5551212\n",
    "Write-Host $phonenumber - $phonenumber.GetType()"
   ]
  },
  {
   "cell_type": "code",
   "execution_count": 21,
   "metadata": {
    "dotnet_interactive": {
     "language": "pwsh"
    },
    "polyglot_notebook": {
     "kernelName": "pwsh"
    },
    "vscode": {
     "languageId": "polyglot-notebook"
    }
   },
   "outputs": [
    {
     "name": "stdout",
     "output_type": "stream",
     "text": [
      "False\n",
      "False\n",
      "True\n"
     ]
    }
   ],
   "source": [
    "[boolean](0)\n",
    "[boolean](\"\")\n",
    "[boolean](0,0)"
   ]
  },
  {
   "cell_type": "code",
   "execution_count": 33,
   "metadata": {
    "dotnet_interactive": {
     "language": "pwsh"
    },
    "polyglot_notebook": {
     "kernelName": "pwsh"
    },
    "vscode": {
     "languageId": "polyglot-notebook"
    }
   },
   "outputs": [
    {
     "name": "stdout",
     "output_type": "stream",
     "text": [
      "1024\n",
      "1048576\n",
      "1073741824\n",
      "1099511627776\n",
      "1125899906842624\n"
     ]
    }
   ],
   "source": [
    "#datatype multa\n",
    "1kb\n",
    "1mb\n",
    "1gb\n",
    "1tb\n",
    "1pb"
   ]
  },
  {
   "cell_type": "code",
   "execution_count": 4,
   "metadata": {
    "dotnet_interactive": {
     "language": "pwsh"
    },
    "polyglot_notebook": {
     "kernelName": "pwsh"
    },
    "vscode": {
     "languageId": "polyglot-notebook"
    }
   },
   "outputs": [
    {
     "name": "stdout",
     "output_type": "stream",
     "text": [
      "2\n",
      "4\n",
      "-1\n",
      "1\n",
      "5\n"
     ]
    }
   ],
   "source": [
    "#math\n",
    "\n",
    "1 + 1\n",
    "2 * 2\n",
    "3 - 4\n",
    "4 / 4\n",
    "5 % 6"
   ]
  },
  {
   "cell_type": "code",
   "execution_count": 39,
   "metadata": {
    "dotnet_interactive": {
     "language": "pwsh"
    },
    "polyglot_notebook": {
     "kernelName": "pwsh"
    },
    "vscode": {
     "languageId": "polyglot-notebook"
    }
   },
   "outputs": [
    {
     "name": "stdout",
     "output_type": "stream",
     "text": [
      "2.71428571428571\r\n"
     ]
    }
   ],
   "source": [
    "#bedmas \n",
    "\n",
    "2 * 2 + [math]::pow(6, 2) / (4 - 32)"
   ]
  },
  {
   "cell_type": "code",
   "execution_count": 25,
   "metadata": {
    "dotnet_interactive": {
     "language": "pwsh"
    },
    "polyglot_notebook": {
     "kernelName": "pwsh"
    },
    "vscode": {
     "languageId": "polyglot-notebook"
    }
   },
   "outputs": [
    {
     "name": "stdout",
     "output_type": "stream",
     "text": [
      "hello world\n",
      "helloworld\n",
      "price 123.45\n",
      "Sum = 3\n",
      "Sum = 3, diff = -1, Product = 2\n",
      "Sum = 3, Diff = -1, Product = 2\n",
      "Sum = 3, Diff = -1, Product = 2\n",
      "dog\n",
      "dog\n",
      "catmouse\n",
      "row row row your boat\n"
     ]
    }
   ],
   "source": [
    "# String\n",
    "$Text = \"hello world\"\n",
    "$Text \n",
    "# add words together\n",
    "$Text = \"hello\" + \"world\"\n",
    "$text\n",
    "# add words and numbers\n",
    "$Price = \"price \" + 123.45\n",
    "$Price \n",
    "# add string and calculation\n",
    "$Answer = \"Sum = \" + (1 + 2)\n",
    "$Answer \n",
    "# big statement \n",
    "$Answer = \"Sum = \" + (1 + 2) + \", diff = \" + (1 - 2) + \", Product = \" + (1 * 2)\n",
    "$Answer\n",
    "# formatted string \n",
    "$Answer = \"Sum = {0}, Diff = {1}, Product = {2}\" -f (1 + 2), (1 - 2), (1 * 2)\n",
    "$Answer\n",
    "# Format + Write\n",
    "Write-Host (\"Sum = {0}, Diff = {1}, Product = {2}\" -f (1 + 2), (1 - 2), (1 * 2))\n",
    "# substrings\n",
    "\"cat dog mouse\".Substring(4, 3)\n",
    "$animals = \"cat dog mouse\"\n",
    "$animals.Substring(4, 3)\n",
    "$animals.Substring(0, 3) + $animals.Substring(8, 5)\n",
    "#replacate \n",
    "$song = \"row \" * 3\n",
    "$song + \"your boat\""
   ]
  },
  {
   "cell_type": "code",
   "execution_count": null,
   "metadata": {
    "dotnet_interactive": {
     "language": "pwsh"
    },
    "polyglot_notebook": {
     "kernelName": "pwsh"
    },
    "vscode": {
     "languageId": "polyglot-notebook"
    }
   },
   "outputs": [],
   "source": []
  }
 ],
 "metadata": {
  "kernelspec": {
   "display_name": ".NET (PowerShell)",
   "language": "PowerShell",
   "name": ".net-powershell"
  },
  "language_info": {
   "file_extension": ".ps1",
   "mimetype": "text/x-powershell",
   "name": "PowerShell",
   "pygments_lexer": "powershell",
   "version": "7.0"
  }
 },
 "nbformat": 4,
 "nbformat_minor": 5
}
