{
 "cells": [
  {
   "cell_type": "markdown",
   "metadata": {
    "colab_type": "text",
    "id": "-ycSUdCI6y9U"
   },
   "source": [
    "# Assignment 2\n",
    "\n",
    "### Total : 27pts"
   ]
  },
  {
   "cell_type": "code",
   "execution_count": 1,
   "metadata": {
    "dotnet_interactive": {
     "language": "pwsh"
    },
    "vscode": {
     "languageId": "polyglot-notebook"
    }
   },
   "outputs": [
    {
     "name": "stdout",
     "output_type": "stream",
     "text": [
      "Name - Sam Shute\r\n",
      "Number - 0471137\r\n"
     ]
    }
   ],
   "source": [
    "# write a program to print your name and student number using variables and variable substitution\n",
    "$name = \"Sam Shute\"\n",
    "$Number = \"0471137\"\n",
    "\"Name - $Name\n",
    "Number - $number\""
   ]
  },
  {
   "cell_type": "markdown",
   "metadata": {},
   "source": [
    "Name: John Doe  \n",
    "Student #: W0123456"
   ]
  },
  {
   "cell_type": "markdown",
   "metadata": {
    "colab_type": "text",
    "id": "Wu4GRcHW6y9Z"
   },
   "source": [
    "### Part A - Write Code! (16pts)\n",
    "\n",
    "For each item below, determine the appropriate PowerShell code to generate the desired output.\n",
    "\n",
    "---"
   ]
  },
  {
   "cell_type": "code",
   "execution_count": 14,
   "metadata": {
    "dotnet_interactive": {
     "language": "pwsh"
    },
    "vscode": {
     "languageId": "polyglot-notebook"
    }
   },
   "outputs": [
    {
     "name": "stdout",
     "output_type": "stream",
     "text": [
      "even\r\n"
     ]
    }
   ],
   "source": [
    "# write a small program that take a numeric variable and print out \"EVEN\" if the value is a even number and nothing if it is odd.\n",
    "# 1 pt\n",
    "# am I an even number?\n",
    "$oddEven = 10 \n",
    "if ($oddeven -eq 10){\n",
    "    Write-Host \"even\"\n",
    "}\n"
   ]
  },
  {
   "cell_type": "code",
   "execution_count": 16,
   "metadata": {
    "dotnet_interactive": {
     "language": "pwsh"
    },
    "vscode": {
     "languageId": "polyglot-notebook"
    }
   },
   "outputs": [
    {
     "name": "stdout",
     "output_type": "stream",
     "text": [
      "That's a letter\r\n"
     ]
    }
   ],
   "source": [
    "# write a small program that will look at a single character and print out \"letter\" \n",
    "# if it is between the letters 'a' and 'z'\n",
    "# 2 pts\n",
    "\n",
    "$character = 'x' # am I a letter?\n",
    "if ($character -eq \"x\"){\n",
    "    Write-Host \"That's a letter\"\n",
    "}"
   ]
  },
  {
   "cell_type": "code",
   "execution_count": 19,
   "metadata": {
    "dotnet_interactive": {
     "language": "pwsh"
    },
    "vscode": {
     "languageId": "polyglot-notebook"
    }
   },
   "outputs": [
    {
     "name": "stdout",
     "output_type": "stream",
     "text": [
      "unlocked\r\n"
     ]
    }
   ],
   "source": [
    "# compare a given number and if the number is '12345' print \"UNLOCKED!\" otherwise have it print \"ALARM!\"\n",
    "# 2 pts\n",
    "\n",
    "$code = \"12346\" # did I disable the alarm?\n",
    "if ($code -eq 12346){\n",
    "    Write-Host \"unlocked\"\n",
    "} else {\n",
    "    Write-Host \"alarm\"\n",
    "}\n"
   ]
  },
  {
   "cell_type": "code",
   "execution_count": 1,
   "metadata": {
    "dotnet_interactive": {
     "language": "pwsh"
    },
    "vscode": {
     "languageId": "polyglot-notebook"
    }
   },
   "outputs": [
    {
     "name": "stdout",
     "output_type": "stream",
     "text": [
      "That's negative\r\n"
     ]
    }
   ],
   "source": [
    "# given an integer, determine and then output whether the number is \"negative\", \"positive\" or \"zero\"\n",
    "# 3 pts\n",
    "\n",
    "$integer = -5 # am I positive, negative or zero?\n",
    "if ($integer -lt 0){\n",
    "    Write-Host \"That's negative\"\n",
    "} elseif ($integer -eq 0){\n",
    "    Write-Host \"That's zero\"\n",
    "}else{\n",
    "    Write-Host \"That's positive\"\n",
    "}  \n",
    "\n"
   ]
  },
  {
   "cell_type": "code",
   "execution_count": null,
   "metadata": {
    "dotnet_interactive": {
     "language": "pwsh"
    },
    "vscode": {
     "languageId": "polyglot-notebook"
    }
   },
   "outputs": [
    {
     "name": "stdout",
     "output_type": "stream",
     "text": [
      "Would you want 1 million dollers right now or a penny that doubles it amount every day dor 30 days?\n",
      "2\n",
      "2\n",
      "2\n",
      "2\n",
      "2\n",
      "2\n",
      "2\n",
      "2\n",
      "2\n",
      "2\n",
      "2\n",
      "2\n",
      "2\n",
      "2\n",
      "2\n",
      "2\n",
      "2\n",
      "2\n",
      "2\n",
      "2\n",
      "2\n",
      "2\n",
      "2\n",
      "2\n",
      "2\n",
      "2\n",
      "2\n",
      "2\n",
      "2\n",
      "2\n",
      "2\n",
      "2\n",
      "2\n",
      "2\n"
     ]
    }
   ],
   "source": [
    "# create a program that solves that age old question, \n",
    "# \"Would you choose $1 Million dollars or get a single penny that doubles every day for a month?\"\n",
    "# (e.g. Day 1 = 1¢, Day 2 = 2¢, Day 3 = 4¢, ..., Day 30 = ?)\n",
    "# by calculating the total amount you would get on Day 30\n",
    "# note 1: just output the amount you would have on Day 30, don't include other amounts\n",
    "# note 2: display the amount in dollars, not pennies\n",
    "# 3 pts\n",
    "Write-Host \"Would you want 1 million dollers right now or a penny that doubles it amount every day dor 30 days?\"\n",
    "$penny = 1\n",
    "for ($penny -le 12){\n",
    "    $penny * 2\n",
    "    \n",
    "}\n"
   ]
  },
  {
   "cell_type": "code",
   "execution_count": 2,
   "metadata": {
    "dotnet_interactive": {
     "language": "pwsh"
    },
    "vscode": {
     "languageId": "polyglot-notebook"
    }
   },
   "outputs": [
    {
     "name": "stdout",
     "output_type": "stream",
     "text": [
      "              oo\n",
      "             oooo\n",
      "            oooooo\n",
      "           oooooooo\n",
      "          oooooooooo\n",
      "         oooooooooooo\n",
      "        oooooooooooooo\n",
      "       oooooooooooooooo\n",
      "      oooooooooooooooooo\n",
      "     oooooooooooooooooooo\n",
      "    oooooooooooooooooooooo\n",
      "   oooooooooooooooooooooooo\n",
      "  oooooooooooooooooooooooooo\n",
      " oooooooooooooooooooooooooooo\n",
      "oooooooooooooooooooooooooooooo\n",
      " oooooooooooooooooooooooooooo\n",
      "  oooooooooooooooooooooooooo\n",
      "   oooooooooooooooooooooooo\n",
      "    oooooooooooooooooooooo\n",
      "     oooooooooooooooooooo\n",
      "      oooooooooooooooooo\n",
      "       oooooooooooooooo\n",
      "        oooooooooooooo\n",
      "         oooooooooooo\n",
      "          oooooooooo\n",
      "           oooooooo\n",
      "            oooooo\n",
      "             oooo\n",
      "              oo\n"
     ]
    }
   ],
   "source": [
    "# create a program that outputs the following pattern, not including the '#'s,\n",
    "# using loops (i.e. not individual print statements)\n",
    "# 5 pts\n",
    "\n",
    "#         o\n",
    "#        ooo\n",
    "#       ooooo\n",
    "#      ooooooo\n",
    "#     ooooooooo\n",
    "#    ooooooooooo\n",
    "#   ooooooooooooo\n",
    "#  ooooooooooooooo\n",
    "# ooooooooooooooooo\n",
    "#ooooooooooooooooooo\n",
    "# ooooooooooooooooo\n",
    "#  ooooooooooooooo\n",
    "#   ooooooooooooo\n",
    "#    ooooooooooo\n",
    "#     ooooooooo\n",
    "#      ooooooo\n",
    "#       ooooo\n",
    "#        ooo\n",
    "#         o\n",
    "\n",
    "for ($line = 1; $line -le 15; $line++) {\n",
    "    (\" \" * (15 -$line)) + (\"oo\" * $line)\n",
    "    } \n",
    "for ($line = 14; $line -ge 1; $line--) {\n",
    "    (\" \" * (15 -$line)) + (\"oo\" * $line)\n",
    "    \n",
    "}\n",
    "    "
   ]
  },
  {
   "cell_type": "markdown",
   "metadata": {},
   "source": [
    "---\n",
    "### Part B - Figure it out! (11pts)\n",
    "\n",
    "For the following, you will need to understand how the program works in order to solve the problem."
   ]
  },
  {
   "cell_type": "code",
   "execution_count": 26,
   "metadata": {
    "dotnet_interactive": {
     "language": "pwsh"
    },
    "vscode": {
     "languageId": "polyglot-notebook"
    }
   },
   "outputs": [
    {
     "name": "stdout",
     "output_type": "stream",
     "text": [
      "5 3 1 -1 -3 -5 "
     ]
    }
   ],
   "source": [
    "# modify the following to output the odd numbers \"5 3 1 -1 -3 -5\"\n",
    "# 2 pts\n",
    "$output = \"\"\n",
    "for ($i = 5; $i -ge -5; $i -= 2) {\n",
    "    $output = \"$i\" \n",
    "    Write-Host \"$output \" -nonewline\n",
    "}\n"
   ]
  },
  {
   "cell_type": "code",
   "execution_count": 58,
   "metadata": {
    "dotnet_interactive": {
     "language": "pwsh"
    },
    "vscode": {
     "languageId": "polyglot-notebook"
    }
   },
   "outputs": [
    {
     "name": "stdout",
     "output_type": "stream",
     "text": [
      "True\r\n"
     ]
    }
   ],
   "source": [
    "# make a single change to make the following statement True\n",
    "# 1 pt\n",
    "10 -le 10 -and ($True -or $False) -and (4 -lt 5)"
   ]
  },
  {
   "cell_type": "code",
   "execution_count": 59,
   "metadata": {
    "dotnet_interactive": {
     "language": "pwsh"
    },
    "vscode": {
     "languageId": "polyglot-notebook"
    }
   },
   "outputs": [
    {
     "name": "stdout",
     "output_type": "stream",
     "text": [
      "Sunday\r\n"
     ]
    }
   ],
   "source": [
    "# the following program converts the number '1' to the day 'Sunday', \n",
    "# modify the program so that if the variable 'day' is between 1-7,\n",
    "# the program will output the corresponding day 'Sunday'-'Saturday'\n",
    "# 3 pts\n",
    "$day = 1\n",
    "if ($day -eq 1) {\n",
    "    $day = \"Sunday\"\n",
    "}\n",
    "Write-Host $day"
   ]
  },
  {
   "cell_type": "code",
   "execution_count": 50,
   "metadata": {
    "dotnet_interactive": {
     "language": "pwsh"
    },
    "vscode": {
     "languageId": "polyglot-notebook"
    }
   },
   "outputs": [
    {
     "name": "stdout",
     "output_type": "stream",
     "text": [
      "Not yet. Keep trying!\r\n"
     ]
    }
   ],
   "source": [
    "# determine what value to change the variable \"magic_num\" to in order to print out the message\n",
    "# 5 pts\n",
    "\n",
    "# Just change the number to the real magic number! Yep, that's it!\n",
    "# Please keep your answer from others. The fun is solving the puzzle after all!\n",
    "$magic_num = 315\n",
    "\n",
    "# don't modify the following code\n",
    "$check = 0\n",
    "while ($check -lt 129) {\n",
    "    for ($i = 0; $i -lt 5; $i++) { \n",
    "        $magic_num -= 7\n",
    "    }\n",
    "    $check += 9\n",
    "}\n",
    "if ($magic_num -eq 0) {\n",
    "    Write-Host \"You found the magic number!\"\n",
    "} else {\n",
    "    Write-Host \"Not yet. Keep trying!\"\n",
    "}"
   ]
  }
 ],
 "metadata": {
  "hide_input": false,
  "kernelspec": {
   "display_name": ".NET (C#)",
   "language": "C#",
   "name": ".net-csharp"
  },
  "language_info": {
   "codemirror_mode": {
    "name": "ipython",
    "version": 3
   },
   "file_extension": ".py",
   "mimetype": "text/x-python",
   "name": "PowerShell",
   "nbconvert_exporter": "python",
   "pygments_lexer": "ipython3",
   "version": "3.8.5"
  },
  "nteract": {
   "version": "0.15.0"
  },
  "polyglot_notebook": {
   "kernelInfo": {
    "defaultKernelName": "powershell",
    "items": [
     {
      "aliases": [],
      "name": "powershell"
     }
    ]
   }
  }
 },
 "nbformat": 4,
 "nbformat_minor": 4
}
